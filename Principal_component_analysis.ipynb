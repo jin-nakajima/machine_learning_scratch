{
 "cells": [
  {
   "cell_type": "markdown",
   "metadata": {},
   "source": [
    "# 主成分分析\n"
   ]
  },
  {
   "cell_type": "code",
   "execution_count": 1,
   "metadata": {},
   "outputs": [],
   "source": [
    "# 模擬データ作成\n",
    "import numpy as np\n",
    "import matplotlib.pyplot as plt\n",
    "plt.style.use('seaborn-darkgrid')"
   ]
  },
  {
   "cell_type": "code",
   "execution_count": 2,
   "metadata": {},
   "outputs": [],
   "source": [
    "np.random.seed(0)"
   ]
  },
  {
   "cell_type": "code",
   "execution_count": 3,
   "metadata": {},
   "outputs": [
    {
     "name": "stderr",
     "output_type": "stream",
     "text": [
      "C:\\Users\\jin\\Anaconda3\\lib\\site-packages\\ipykernel_launcher.py:4: RuntimeWarning: covariance is not positive-semidefinite.\n",
      "  after removing the cwd from sys.path.\n"
     ]
    }
   ],
   "source": [
    "# 2次元の正規分布で模擬データ300人分を作成\n",
    "mean = [165,60]\n",
    "cov = [[15,20],[20,10]] # 分散共分散行列\n",
    "X = np.random.multivariate_normal(mean,cov,300) # 2次元データ作成"
   ]
  },
  {
   "cell_type": "code",
   "execution_count": 5,
   "metadata": {},
   "outputs": [
    {
     "data": {
      "text/plain": [
       "array([[158.17546095,  52.49853337],\n",
       "       [164.9104108 ,  51.65030942],\n",
       "       [155.2097746 ,  54.96426289],\n",
       "       [160.6526239 ,  56.72083707],\n",
       "       [166.19405366,  59.53866811],\n",
       "       [167.04587562,  56.43868563],\n",
       "       [161.96248319,  56.86946068],\n",
       "       [163.70947133,  57.6292318 ],\n",
       "       [158.22362684,  54.77512853],\n",
       "       [162.09484312,  60.58764302]])"
      ]
     },
     "execution_count": 5,
     "metadata": {},
     "output_type": "execute_result"
    }
   ],
   "source": [
    "X[:10]"
   ]
  },
  {
   "cell_type": "code",
   "execution_count": 6,
   "metadata": {},
   "outputs": [
    {
     "data": {
      "image/png": "[encoded data removed]",
      "text/plain": [
       "<Figure size 432x432 with 1 Axes>"
      ]
     },
     "metadata": {
      "needs_background": "light"
     },
     "output_type": "display_data"
    }
   ],
   "source": [
    "plt.figure(figsize=(6,6))\n",
    "plt.scatter(X.T[0],X.T[1],marker='^')\n",
    "plt.xlim(150,180)\n",
    "plt.ylim(45,75)\n",
    "plt.xlabel('height')\n",
    "plt.ylabel('weight')\n",
    "plt.show()"
   ]
  },
  {
   "cell_type": "markdown",
   "metadata": {},
   "source": [
    "# 主成分分析の実装"
   ]
  },
  {
   "cell_type": "code",
   "execution_count": 8,
   "metadata": {},
   "outputs": [],
   "source": [
    "from sklearn import  preprocessing,decomposition"
   ]
  },
  {
   "cell_type": "code",
   "execution_count": 9,
   "metadata": {},
   "outputs": [],
   "source": [
    "# データの正規化\n",
    "sc = preprocessing.StandardScaler()\n",
    "sc.fit(X)\n",
    "X_std = sc.transform(X)"
   ]
  },
  {
   "cell_type": "code",
   "execution_count": 10,
   "metadata": {},
   "outputs": [
    {
     "data": {
      "text/plain": [
       "array([[-1.52274199, -1.81021216],\n",
       "       [-0.08757593, -2.00518269],\n",
       "       [-2.15470697, -1.24344603],\n",
       "       [-0.9948776 , -0.83968449],\n",
       "       [ 0.1859585 , -0.19198524],\n",
       "       [ 0.36747521, -0.90453908],\n",
       "       [-0.71575665, -0.80552226],\n",
       "       [-0.34348691, -0.63088326],\n",
       "       [-1.51247821, -1.28691996],\n",
       "       [-0.68755177,  0.04912939]])"
      ]
     },
     "execution_count": 10,
     "metadata": {},
     "output_type": "execute_result"
    }
   ],
   "source": [
    "X_std[:10]"
   ]
  },
  {
   "cell_type": "code",
   "execution_count": 11,
   "metadata": {},
   "outputs": [],
   "source": [
    "# 主成分分析の実施\n",
    "pca = decomposition.PCA(random_state=0)\n",
    "pca.fit(X_std) # PCAの計算\n",
    "X_pca = pca.transform(X_std) # PCAをX_stdに実施"
   ]
  },
  {
   "cell_type": "code",
   "execution_count": 12,
   "metadata": {},
   "outputs": [
    {
     "name": "stdout",
     "output_type": "stream",
     "text": [
      "主成分の分散説明率\n",
      "[0.81346872 0.18653128]\n",
      "固有ベクトル\n",
      "[[-0.70710678 -0.70710678]\n",
      " [-0.70710678  0.70710678]]\n"
     ]
    }
   ],
   "source": [
    "# 主成分分析の結果\n",
    "print('主成分の分散説明率')\n",
    "print(pca.explained_variance_ratio_)\n",
    "\n",
    "print('固有ベクトル')\n",
    "print(pca.components_)"
   ]
  },
  {
   "cell_type": "markdown",
   "metadata": {},
   "source": [
    "# 第一主成分の固有ベクトルの軸をプロットする"
   ]
  },
  {
   "cell_type": "code",
   "execution_count": 13,
   "metadata": {},
   "outputs": [],
   "source": [
    "# 第一主成分の軸を描画するために軸上の2点がほしい\n",
    "# 平均値に，正規化操作分を戻した固有ベクトルを足す\n",
    "pca_point1 = sc.mean_ - sc.inverse_transform(pca.components_)[0]\n",
    "pca_point2 = sc.mean_ + sc.inverse_transform(pca.components_)[0]\n",
    "pca_point = np.c_[pca_point1,pca_point2] # 点を列方向に足す"
   ]
  },
  {
   "cell_type": "code",
   "execution_count": 14,
   "metadata": {},
   "outputs": [
    {
     "data": {
      "text/plain": [
       "array([3.31831196, 3.07628489])"
      ]
     },
     "execution_count": 14,
     "metadata": {},
     "output_type": "execute_result"
    }
   ],
   "source": [
    "pca_point1"
   ]
  },
  {
   "cell_type": "code",
   "execution_count": 17,
   "metadata": {},
   "outputs": [
    {
     "data": {
      "text/plain": [
       "array([165.32138729,  60.37390445])"
      ]
     },
     "execution_count": 17,
     "metadata": {},
     "output_type": "execute_result"
    }
   ],
   "source": [
    "sc.mean_"
   ]
  },
  {
   "cell_type": "code",
   "execution_count": 18,
   "metadata": {},
   "outputs": [
    {
     "data": {
      "text/plain": [
       "array([[-0.70710678, -0.70710678],\n",
       "       [-0.70710678,  0.70710678]])"
      ]
     },
     "execution_count": 18,
     "metadata": {},
     "output_type": "execute_result"
    }
   ],
   "source": [
    "pca.components_"
   ]
  },
  {
   "cell_type": "code",
   "execution_count": 19,
   "metadata": {},
   "outputs": [
    {
     "data": {
      "text/plain": [
       "array([[162.00307533,  57.29761957],\n",
       "       [162.00307533,  63.45018934]])"
      ]
     },
     "execution_count": 19,
     "metadata": {},
     "output_type": "execute_result"
    }
   ],
   "source": [
    "sc.inverse_transform(pca.components_)"
   ]
  },
  {
   "cell_type": "code",
   "execution_count": 20,
   "metadata": {},
   "outputs": [
    {
     "data": {
      "text/plain": [
       "array([[  3.31831196, 327.32446262],\n",
       "       [  3.07628489, 117.67152402]])"
      ]
     },
     "execution_count": 20,
     "metadata": {},
     "output_type": "execute_result"
    }
   ],
   "source": [
    "pca_point"
   ]
  },
  {
   "cell_type": "code",
   "execution_count": 21,
   "metadata": {},
   "outputs": [
    {
     "data": {
      "image/png": "[encoded data removed]",
      "text/plain": [
       "<Figure size 432x432 with 1 Axes>"
      ]
     },
     "metadata": {
      "needs_background": "light"
     },
     "output_type": "display_data"
    }
   ],
   "source": [
    "plt.figure(figsize=(6,6))\n",
    "plt.scatter(X.T[0],X.T[1],marker='^')\n",
    "plt.plot(pca_point[0],pca_point[1],color='black',label='first_PC_axis')\n",
    "plt.xlim(150,180)\n",
    "plt.ylim(45,70)\n",
    "plt.xlabel('height')\n",
    "plt.ylabel('weight')\n",
    "plt.legend()\n",
    "plt.show()"
   ]
  },
  {
   "cell_type": "code",
   "execution_count": 22,
   "metadata": {},
   "outputs": [
    {
     "name": "stdout",
     "output_type": "stream",
     "text": [
      "[[ 2.48793062 -0.88428776]]\n"
     ]
    }
   ],
   "source": [
    "# 任意のデータに主成分分析を実行\n",
    "data = (160,50)\n",
    "data_std = sc.transform([data])\n",
    "data_pca = pca.transform(data_std)\n",
    "print(data_pca)"
   ]
  },
  {
   "cell_type": "code",
   "execution_count": null,
   "metadata": {},
   "outputs": [],
   "source": []
  }
 ],
 "metadata": {
  "kernelspec": {
   "display_name": "Python 3",
   "language": "python",
   "name": "python3"
  },
  "language_info": {
   "codemirror_mode": {
    "name": "ipython",
    "version": 3
   },
   "file_extension": ".py",
   "mimetype": "text/x-python",
   "name": "python",
   "nbconvert_exporter": "python",
   "pygments_lexer": "ipython3",
   "version": "3.6.7"
  },
  "varInspector": {
   "cols": {
    "lenName": 16,
    "lenType": 16,
    "lenVar": 40
   },
   "kernels_config": {
    "python": {
     "delete_cmd_postfix": "",
     "delete_cmd_prefix": "del ",
     "library": "var_list.py",
     "varRefreshCmd": "print(var_dic_list())"
    },
    "r": {
     "delete_cmd_postfix": ") ",
     "delete_cmd_prefix": "rm(",
     "library": "var_list.r",
     "varRefreshCmd": "cat(var_dic_list()) "
    }
   },
   "types_to_exclude": [
    "module",
    "function",
    "builtin_function_or_method",
    "instance",
    "_Feature"
   ],
   "window_display": false
  }
 },
 "nbformat": 4,
 "nbformat_minor": 2
}
