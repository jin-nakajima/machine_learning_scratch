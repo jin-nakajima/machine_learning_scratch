{
 "cells": [
  {
   "cell_type": "code",
   "execution_count": 1,
   "metadata": {},
   "outputs": [],
   "source": [
    "import numpy as np\n",
    "import pandas as pd\n",
    "import seaborn as sns\n",
    "import matplotlib.pyplot as plt\n",
    "from sklearn.linear_model import LogisticRegression\n",
    "from sklearn import  preprocessing\n",
    "\n",
    "plt.style.use('seaborn-darkgrid')"
   ]
  },
  {
   "cell_type": "code",
   "execution_count": 23,
   "metadata": {},
   "outputs": [],
   "source": [
    "X = np.zeros((20,2))\n",
    "X[0:10, 1] = range(0,10)\n",
    "X[10:20, 1] = range(0,10)\n",
    "X[0,0] = 1.0\n",
    "X[9,0] = 1.0\n",
    "X[1:9, 0] = 3.0\n",
    "X[10:20, 0] = range(-1,-11,-1)\n",
    "X[9,0] = 1\n",
    "X[19,0] = -1"
   ]
  },
  {
   "cell_type": "markdown",
   "metadata": {},
   "source": [
    "# 確認"
   ]
  },
  {
   "cell_type": "code",
   "execution_count": 4,
   "metadata": {},
   "outputs": [
    {
     "data": {
      "text/plain": [
       "array([[ 1.,  0.],\n",
       "       [ 3.,  1.],\n",
       "       [ 3.,  2.],\n",
       "       [ 3.,  3.],\n",
       "       [ 3.,  4.],\n",
       "       [ 3.,  5.],\n",
       "       [ 3.,  6.],\n",
       "       [ 3.,  7.],\n",
       "       [ 3.,  8.],\n",
       "       [ 1.,  9.],\n",
       "       [-1.,  0.],\n",
       "       [-2.,  1.],\n",
       "       [-3.,  2.],\n",
       "       [-4.,  3.],\n",
       "       [-5.,  4.],\n",
       "       [-6.,  5.],\n",
       "       [-7.,  6.],\n",
       "       [-8.,  7.],\n",
       "       [-9.,  8.],\n",
       "       [-1.,  9.]])"
      ]
     },
     "execution_count": 4,
     "metadata": {},
     "output_type": "execute_result"
    }
   ],
   "source": [
    "X"
   ]
  },
  {
   "cell_type": "code",
   "execution_count": 5,
   "metadata": {},
   "outputs": [
    {
     "data": {
      "text/plain": [
       "array([[0., 0.],\n",
       "       [0., 1.],\n",
       "       [0., 2.],\n",
       "       [0., 3.],\n",
       "       [0., 4.],\n",
       "       [0., 5.],\n",
       "       [0., 6.],\n",
       "       [0., 7.],\n",
       "       [0., 8.],\n",
       "       [0., 9.],\n",
       "       [0., 0.],\n",
       "       [0., 0.],\n",
       "       [0., 0.],\n",
       "       [0., 0.],\n",
       "       [0., 0.],\n",
       "       [0., 0.],\n",
       "       [0., 0.],\n",
       "       [0., 0.],\n",
       "       [0., 0.],\n",
       "       [0., 0.]])"
      ]
     },
     "execution_count": 5,
     "metadata": {},
     "output_type": "execute_result"
    }
   ],
   "source": [
    "X = np.zeros((20,2))\n",
    "X[0:10, 1] = range(0,10)\n",
    "X"
   ]
  },
  {
   "cell_type": "code",
   "execution_count": 6,
   "metadata": {},
   "outputs": [
    {
     "data": {
      "text/plain": [
       "array([[0., 0.],\n",
       "       [0., 1.],\n",
       "       [0., 2.],\n",
       "       [0., 3.],\n",
       "       [0., 4.],\n",
       "       [0., 5.],\n",
       "       [0., 6.],\n",
       "       [0., 7.],\n",
       "       [0., 8.],\n",
       "       [0., 9.],\n",
       "       [0., 0.],\n",
       "       [0., 1.],\n",
       "       [0., 2.],\n",
       "       [0., 3.],\n",
       "       [0., 4.],\n",
       "       [0., 5.],\n",
       "       [0., 6.],\n",
       "       [0., 7.],\n",
       "       [0., 8.],\n",
       "       [0., 9.]])"
      ]
     },
     "execution_count": 6,
     "metadata": {},
     "output_type": "execute_result"
    }
   ],
   "source": [
    "X[10:20, 1] = range(0,10)\n",
    "X"
   ]
  },
  {
   "cell_type": "code",
   "execution_count": 7,
   "metadata": {},
   "outputs": [
    {
     "ename": "ValueError",
     "evalue": "cannot copy sequence with size 10 to array axis with dimension 20",
     "output_type": "error",
     "traceback": [
      "\u001b[1;31m---------------------------------------------------------------------------\u001b[0m",
      "\u001b[1;31mValueError\u001b[0m                                Traceback (most recent call last)",
      "\u001b[1;32m<ipython-input-7-c80ed2d9cde1>\u001b[0m in \u001b[0;36m<module>\u001b[1;34m\u001b[0m\n\u001b[1;32m----> 1\u001b[1;33m \u001b[0mX\u001b[0m\u001b[1;33m[\u001b[0m\u001b[1;36m0\u001b[0m\u001b[1;33m:\u001b[0m\u001b[1;36m20\u001b[0m\u001b[1;33m,\u001b[0m \u001b[1;36m1\u001b[0m\u001b[1;33m]\u001b[0m \u001b[1;33m=\u001b[0m \u001b[0mrange\u001b[0m\u001b[1;33m(\u001b[0m\u001b[1;36m0\u001b[0m\u001b[1;33m,\u001b[0m\u001b[1;36m10\u001b[0m\u001b[1;33m)\u001b[0m\u001b[1;33m\u001b[0m\u001b[1;33m\u001b[0m\u001b[0m\n\u001b[0m",
      "\u001b[1;31mValueError\u001b[0m: cannot copy sequence with size 10 to array axis with dimension 20"
     ]
    }
   ],
   "source": [
    "X[0:20, 1] = range(0,10)"
   ]
  },
  {
   "cell_type": "code",
   "execution_count": 8,
   "metadata": {},
   "outputs": [
    {
     "data": {
      "text/plain": [
       "array([[1., 0.],\n",
       "       [0., 1.],\n",
       "       [0., 2.],\n",
       "       [0., 3.],\n",
       "       [0., 4.],\n",
       "       [0., 5.],\n",
       "       [0., 6.],\n",
       "       [0., 7.],\n",
       "       [0., 8.],\n",
       "       [1., 9.],\n",
       "       [0., 0.],\n",
       "       [0., 1.],\n",
       "       [0., 2.],\n",
       "       [0., 3.],\n",
       "       [0., 4.],\n",
       "       [0., 5.],\n",
       "       [0., 6.],\n",
       "       [0., 7.],\n",
       "       [0., 8.],\n",
       "       [0., 9.]])"
      ]
     },
     "execution_count": 8,
     "metadata": {},
     "output_type": "execute_result"
    }
   ],
   "source": [
    "X[0,0] = 1.0\n",
    "X[9,0] = 1.0\n",
    "X"
   ]
  },
  {
   "cell_type": "code",
   "execution_count": 9,
   "metadata": {},
   "outputs": [
    {
     "data": {
      "text/plain": [
       "array([[  1.,   0.],\n",
       "       [  3.,   1.],\n",
       "       [  3.,   2.],\n",
       "       [  3.,   3.],\n",
       "       [  3.,   4.],\n",
       "       [  3.,   5.],\n",
       "       [  3.,   6.],\n",
       "       [  3.,   7.],\n",
       "       [  3.,   8.],\n",
       "       [  1.,   9.],\n",
       "       [ -1.,   0.],\n",
       "       [ -2.,   1.],\n",
       "       [ -3.,   2.],\n",
       "       [ -4.,   3.],\n",
       "       [ -5.,   4.],\n",
       "       [ -6.,   5.],\n",
       "       [ -7.,   6.],\n",
       "       [ -8.,   7.],\n",
       "       [ -9.,   8.],\n",
       "       [-10.,   9.]])"
      ]
     },
     "execution_count": 9,
     "metadata": {},
     "output_type": "execute_result"
    }
   ],
   "source": [
    "X[1:9, 0] = 3.0\n",
    "X[10:20, 0] = range(-1,-11,-1)\n",
    "X"
   ]
  },
  {
   "cell_type": "markdown",
   "metadata": {},
   "source": [
    "---"
   ]
  },
  {
   "cell_type": "code",
   "execution_count": 24,
   "metadata": {},
   "outputs": [],
   "source": [
    "y = np.zeros((20))\n",
    "y[10:20] = 1.0\n",
    "y = y.astype(np.int8)"
   ]
  },
  {
   "cell_type": "code",
   "execution_count": 15,
   "metadata": {},
   "outputs": [
    {
     "data": {
      "text/plain": [
       "array([0, 0, 0, 0, 0, 0, 0, 0, 0, 0, 1, 1, 1, 1, 1, 1, 1, 1, 1, 1],\n",
       "      dtype=int8)"
      ]
     },
     "execution_count": 15,
     "metadata": {},
     "output_type": "execute_result"
    }
   ],
   "source": [
    "y"
   ]
  },
  {
   "cell_type": "code",
   "execution_count": 25,
   "metadata": {},
   "outputs": [
    {
     "data": {
      "image/png": "[encoded data removed]",
      "text/plain": [
       "<Figure size 432x288 with 1 Axes>"
      ]
     },
     "metadata": {
      "needs_background": "light"
     },
     "output_type": "display_data"
    }
   ],
   "source": [
    "# 描画\n",
    "plt.scatter(X[:,0],X[:,1],c=y,cmap=plt.cm.coolwarm)\n",
    "plt.show()"
   ]
  },
  {
   "attachments": {
    "image.png": {
     "image/png": "[encoded data removed]"
    }
   },
   "cell_type": "markdown",
   "metadata": {},
   "source": [
    "![image.png](attachment:image.png)"
   ]
  },
  {
   "cell_type": "code",
   "execution_count": 26,
   "metadata": {},
   "outputs": [],
   "source": [
    "from mlxtend.plotting import plot_decision_regions"
   ]
  },
  {
   "cell_type": "code",
   "execution_count": 27,
   "metadata": {},
   "outputs": [],
   "source": [
    "# 変数Xの標準化\n",
    "sc = preprocessing.StandardScaler()\n",
    "sc.fit(X)\n",
    "X_std = sc.transform(X)"
   ]
  },
  {
   "cell_type": "code",
   "execution_count": 28,
   "metadata": {},
   "outputs": [
    {
     "data": {
      "text/plain": [
       "array([[ 0.48507125, -1.5666989 ],\n",
       "       [ 0.9701425 , -1.21854359],\n",
       "       [ 0.9701425 , -0.87038828],\n",
       "       [ 0.9701425 , -0.52223297],\n",
       "       [ 0.9701425 , -0.17407766],\n",
       "       [ 0.9701425 ,  0.17407766],\n",
       "       [ 0.9701425 ,  0.52223297],\n",
       "       [ 0.9701425 ,  0.87038828],\n",
       "       [ 0.9701425 ,  1.21854359],\n",
       "       [ 0.48507125,  1.5666989 ],\n",
       "       [ 0.        , -1.5666989 ],\n",
       "       [-0.24253563, -1.21854359],\n",
       "       [-0.48507125, -0.87038828],\n",
       "       [-0.72760688, -0.52223297],\n",
       "       [-0.9701425 , -0.17407766],\n",
       "       [-1.21267813,  0.17407766],\n",
       "       [-1.45521375,  0.52223297],\n",
       "       [-1.69774938,  0.87038828],\n",
       "       [-1.940285  ,  1.21854359],\n",
       "       [ 0.        ,  1.5666989 ]])"
      ]
     },
     "execution_count": 28,
     "metadata": {},
     "output_type": "execute_result"
    }
   ],
   "source": [
    "X_std"
   ]
  },
  {
   "cell_type": "code",
   "execution_count": 29,
   "metadata": {},
   "outputs": [
    {
     "data": {
      "text/plain": [
       "<AxesSubplot:>"
      ]
     },
     "execution_count": 29,
     "metadata": {},
     "output_type": "execute_result"
    },
    {
     "data": {
      "image/png": "[encoded data removed]",
      "text/plain": [
       "<Figure size 432x288 with 1 Axes>"
      ]
     },
     "metadata": {
      "needs_background": "light"
     },
     "output_type": "display_data"
    }
   ],
   "source": [
    "# ロジスティック回帰\n",
    "lr = LogisticRegression(random_state=0)\n",
    "lr.fit(X_std, y)\n",
    "plot_decision_regions(X_std,y,clf=lr,res=0.01)"
   ]
  },
  {
   "cell_type": "markdown",
   "metadata": {},
   "source": [
    "plot_decision_regionsを使うと分類器の決定境界を描くことができます．\n",
    "データとターゲット，分類器を渡すだけで描いてくれます"
   ]
  },
  {
   "cell_type": "markdown",
   "metadata": {},
   "source": [
    "# ハードマージンSVC"
   ]
  },
  {
   "cell_type": "code",
   "execution_count": 30,
   "metadata": {},
   "outputs": [
    {
     "data": {
      "text/plain": [
       "<AxesSubplot:>"
      ]
     },
     "execution_count": 30,
     "metadata": {},
     "output_type": "execute_result"
    },
    {
     "data": {
      "image/png": "[encoded data removed]",
      "text/plain": [
       "<Figure size 432x288 with 1 Axes>"
      ]
     },
     "metadata": {
      "needs_background": "light"
     },
     "output_type": "display_data"
    }
   ],
   "source": [
    "from sklearn import svm\n",
    "\n",
    "# linearSVCの適用\n",
    "clf = svm.LinearSVC(random_state=0)\n",
    "clf.fit(X_std,y)\n",
    "plot_decision_regions(X_std,y,clf=clf,res=0.01)"
   ]
  },
  {
   "cell_type": "markdown",
   "metadata": {},
   "source": [
    "# ソフトマージンSVC"
   ]
  },
  {
   "cell_type": "code",
   "execution_count": 32,
   "metadata": {},
   "outputs": [
    {
     "data": {
      "image/png": "[encoded data removed]",
      "text/plain": [
       "<Figure size 432x288 with 1 Axes>"
      ]
     },
     "metadata": {
      "needs_background": "light"
     },
     "output_type": "display_data"
    }
   ],
   "source": [
    "# ラベル１の一番上の点を右にずらす\n",
    "X[19,0] = 2\n",
    "plt.scatter(X[:,0],X[:,1],c=y,cmap=plt.cm.coolwarm)\n",
    "plt.show()"
   ]
  },
  {
   "cell_type": "code",
   "execution_count": 33,
   "metadata": {},
   "outputs": [
    {
     "data": {
      "text/plain": [
       "<AxesSubplot:>"
      ]
     },
     "execution_count": 33,
     "metadata": {},
     "output_type": "execute_result"
    },
    {
     "data": {
      "image/png": "[encoded data removed]",
      "text/plain": [
       "<Figure size 432x288 with 1 Axes>"
      ]
     },
     "metadata": {
      "needs_background": "light"
     },
     "output_type": "display_data"
    }
   ],
   "source": [
    "# 線形分離できないデータ（上記）に対してハードマージンSVC(C=1)を適用\n",
    "sc = preprocessing.StandardScaler()\n",
    "sc.fit(X)\n",
    "X_std = sc.transform(X)\n",
    "\n",
    "clf = svm.LinearSVC(random_state=0)\n",
    "clf.fit(X_std,y)\n",
    "plot_decision_regions(X_std,y,clf=clf,res=0.01)"
   ]
  },
  {
   "cell_type": "code",
   "execution_count": 34,
   "metadata": {},
   "outputs": [
    {
     "data": {
      "text/plain": [
       "<AxesSubplot:>"
      ]
     },
     "execution_count": 34,
     "metadata": {},
     "output_type": "execute_result"
    },
    {
     "data": {
      "image/png": "[encoded data removed]",
      "text/plain": [
       "<Figure size 432x288 with 1 Axes>"
      ]
     },
     "metadata": {
      "needs_background": "light"
     },
     "output_type": "display_data"
    }
   ],
   "source": [
    "# ソフトマージンSVC(C=0.2,ペナルティを重視しない)\n",
    "clf = svm.LinearSVC(C=0.2,random_state=0)\n",
    "clf.fit(X_std,y)\n",
    "plot_decision_regions(X_std,y,clf=clf,res=0.01)"
   ]
  },
  {
   "cell_type": "code",
   "execution_count": 35,
   "metadata": {},
   "outputs": [
    {
     "data": {
      "text/plain": [
       "<AxesSubplot:>"
      ]
     },
     "execution_count": 35,
     "metadata": {},
     "output_type": "execute_result"
    },
    {
     "data": {
      "image/png": "[encoded data removed]",
      "text/plain": [
       "<Figure size 432x288 with 1 Axes>"
      ]
     },
     "metadata": {
      "needs_background": "light"
     },
     "output_type": "display_data"
    }
   ],
   "source": [
    "# ソフトマージンSVC(C=5,ペナルティを重視する)\n",
    "clf = svm.LinearSVC(C=5,random_state=0)\n",
    "clf.fit(X_std,y)\n",
    "plot_decision_regions(X_std,y,clf=clf,res=0.01)"
   ]
  },
  {
   "cell_type": "code",
   "execution_count": null,
   "metadata": {},
   "outputs": [],
   "source": []
  }
 ],
 "metadata": {
  "kernelspec": {
   "display_name": "Python 3",
   "language": "python",
   "name": "python3"
  },
  "language_info": {
   "codemirror_mode": {
    "name": "ipython",
    "version": 3
   },
   "file_extension": ".py",
   "mimetype": "text/x-python",
   "name": "python",
   "nbconvert_exporter": "python",
   "pygments_lexer": "ipython3",
   "version": "3.6.7"
  },
  "varInspector": {
   "cols": {
    "lenName": 16,
    "lenType": 16,
    "lenVar": 40
   },
   "kernels_config": {
    "python": {
     "delete_cmd_postfix": "",
     "delete_cmd_prefix": "del ",
     "library": "var_list.py",
     "varRefreshCmd": "print(var_dic_list())"
    },
    "r": {
     "delete_cmd_postfix": ") ",
     "delete_cmd_prefix": "rm(",
     "library": "var_list.r",
     "varRefreshCmd": "cat(var_dic_list()) "
    }
   },
   "types_to_exclude": [
    "module",
    "function",
    "builtin_function_or_method",
    "instance",
    "_Feature"
   ],
   "window_display": false
  }
 },
 "nbformat": 4,
 "nbformat_minor": 2
}
