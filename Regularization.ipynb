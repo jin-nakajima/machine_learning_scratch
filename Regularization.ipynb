{
 "cells": [
  {
   "cell_type": "code",
   "execution_count": 1,
   "metadata": {},
   "outputs": [],
   "source": [
    "from sklearn.model_selection import  train_test_split\n",
    "from mglearn.datasets import load_extended_boston\n",
    "X,y = load_extended_boston()\n",
    "X_train,X_test,y_train,y_test = train_test_split(X,y,random_state=0)"
   ]
  },
  {
   "cell_type": "code",
   "execution_count": 2,
   "metadata": {},
   "outputs": [],
   "source": [
    "from sklearn import linear_model"
   ]
  },
  {
   "cell_type": "markdown",
   "metadata": {},
   "source": [
    "# L2正則化 Ridge"
   ]
  },
  {
   "cell_type": "code",
   "execution_count": 3,
   "metadata": {},
   "outputs": [
    {
     "name": "stdout",
     "output_type": "stream",
     "text": [
      "intercept:21.39\n",
      "coef:[-1.41368408 -1.55661895 -1.46543409 -0.12661607]\n",
      "Trainscore:0.89\n",
      "Test score:0.75\n"
     ]
    }
   ],
   "source": [
    "ridge = linear_model.Ridge(alpha=1.0,random_state=0)\n",
    "ridge.fit(X_train,y_train)\n",
    "\n",
    "# バイアスパラメータと重みパラメータ先頭4個の表示\n",
    "print(f'intercept:{ridge.intercept_:.2f}')\n",
    "print(f'coef:{ridge.coef_[:4]}')\n",
    "\n",
    "# 訓練データとテストデータでモデルを評価\n",
    "print(f'Trainscore:{ridge.score(X_train,y_train):.2f}')\n",
    "print(f'Test score:{ridge.score(X_test,y_test):.2f}')"
   ]
  },
  {
   "cell_type": "markdown",
   "metadata": {},
   "source": [
    "# L1正則化 Ridge"
   ]
  },
  {
   "cell_type": "code",
   "execution_count": 4,
   "metadata": {},
   "outputs": [],
   "source": [
    "import numpy as np"
   ]
  },
  {
   "cell_type": "code",
   "execution_count": 5,
   "metadata": {},
   "outputs": [
    {
     "name": "stdout",
     "output_type": "stream",
     "text": [
      "Number of nonzero parameters:33\n",
      "Train score:0.90\n",
      "Test score:0.77\n"
     ]
    }
   ],
   "source": [
    "lasso = linear_model.Lasso(alpha=0.01, max_iter=2000, random_state=0)\n",
    "lasso.fit(X_train,y_train)\n",
    "\n",
    "print(f'Number of nonzero parameters:{np.count_nonzero(lasso.coef_)}')\n",
    "\n",
    "print(f'Train score:{lasso.score(X_train,y_train):.2f}')\n",
    "print(f'Test score:{lasso.score(X_test,y_test):.2f}')"
   ]
  },
  {
   "cell_type": "code",
   "execution_count": null,
   "metadata": {},
   "outputs": [],
   "source": []
  }
 ],
 "metadata": {
  "kernelspec": {
   "display_name": "Python 3",
   "language": "python",
   "name": "python3"
  },
  "language_info": {
   "codemirror_mode": {
    "name": "ipython",
    "version": 3
   },
   "file_extension": ".py",
   "mimetype": "text/x-python",
   "name": "python",
   "nbconvert_exporter": "python",
   "pygments_lexer": "ipython3",
   "version": "3.6.7"
  },
  "varInspector": {
   "cols": {
    "lenName": 16,
    "lenType": 16,
    "lenVar": 40
   },
   "kernels_config": {
    "python": {
     "delete_cmd_postfix": "",
     "delete_cmd_prefix": "del ",
     "library": "var_list.py",
     "varRefreshCmd": "print(var_dic_list())"
    },
    "r": {
     "delete_cmd_postfix": ") ",
     "delete_cmd_prefix": "rm(",
     "library": "var_list.r",
     "varRefreshCmd": "cat(var_dic_list()) "
    }
   },
   "types_to_exclude": [
    "module",
    "function",
    "builtin_function_or_method",
    "instance",
    "_Feature"
   ],
   "window_display": false
  }
 },
 "nbformat": 4,
 "nbformat_minor": 2
}
