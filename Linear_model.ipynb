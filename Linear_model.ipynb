{
 "cells": [
  {
   "cell_type": "code",
   "execution_count": 1,
   "metadata": {},
   "outputs": [
    {
     "name": "stdout",
     "output_type": "stream",
     "text": [
      "Collecting mglearn\n",
      "  Downloading https://files.pythonhosted.org/packages/65/38/8aced26fce0b2ae82c3c87cd3b6105f38ca6d9d51704ecc44aa54473e6b9/mglearn-0.1.9.tar.gz (540kB)\n",
      "Requirement already satisfied: numpy in c:\\users\\jin\\anaconda3\\lib\\site-packages (from mglearn) (1.15.4)\n",
      "Requirement already satisfied: matplotlib in c:\\users\\jin\\anaconda3\\lib\\site-packages (from mglearn) (2.2.2)\n",
      "Requirement already satisfied: scikit-learn in c:\\users\\jin\\anaconda3\\lib\\site-packages (from mglearn) (0.20.1)\n",
      "Requirement already satisfied: pandas in c:\\users\\jin\\anaconda3\\lib\\site-packages (from mglearn) (0.23.4)\n",
      "Requirement already satisfied: pillow in c:\\users\\jin\\anaconda3\\lib\\site-packages (from mglearn) (5.3.0)\n",
      "Requirement already satisfied: cycler in c:\\users\\jin\\anaconda3\\lib\\site-packages (from mglearn) (0.10.0)\n",
      "Requirement already satisfied: imageio in c:\\users\\jin\\anaconda3\\lib\\site-packages (from mglearn) (2.4.1)\n",
      "Collecting joblib (from mglearn)\n",
      "  Downloading https://files.pythonhosted.org/packages/51/dd/0e015051b4a27ec5a58b02ab774059f3289a94b0906f880a3f9507e74f38/joblib-0.16.0-py3-none-any.whl (300kB)\n",
      "Requirement already satisfied: pyparsing!=2.0.4,!=2.1.2,!=2.1.6,>=2.0.1 in c:\\users\\jin\\anaconda3\\lib\\site-packages (from matplotlib->mglearn) (2.3.0)\n",
      "Requirement already satisfied: python-dateutil>=2.1 in c:\\users\\jin\\anaconda3\\lib\\site-packages (from matplotlib->mglearn) (2.7.5)\n",
      "Requirement already satisfied: pytz in c:\\users\\jin\\anaconda3\\lib\\site-packages (from matplotlib->mglearn) (2018.7)\n",
      "Requirement already satisfied: six>=1.10 in c:\\users\\jin\\anaconda3\\lib\\site-packages (from matplotlib->mglearn) (1.11.0)\n",
      "Requirement already satisfied: kiwisolver>=1.0.1 in c:\\users\\jin\\anaconda3\\lib\\site-packages (from matplotlib->mglearn) (1.0.1)\n",
      "Requirement already satisfied: scipy>=0.13.3 in c:\\users\\jin\\anaconda3\\lib\\site-packages (from scikit-learn->mglearn) (1.1.0)\n",
      "Requirement already satisfied: setuptools in c:\\users\\jin\\anaconda3\\lib\\site-packages (from kiwisolver>=1.0.1->matplotlib->mglearn) (40.6.2)\n",
      "Building wheels for collected packages: mglearn\n",
      "  Running setup.py bdist_wheel for mglearn: started\n",
      "  Running setup.py bdist_wheel for mglearn: finished with status 'done'\n",
      "  Stored in directory: C:\\Users\\jin\\AppData\\Local\\pip\\Cache\\wheels\\eb\\a6\\ea\\a6a3716233fa62fc561259b5cb1e28f79e9ff3592c0adac5f0\n",
      "Successfully built mglearn\n",
      "Installing collected packages: joblib, mglearn\n",
      "Successfully installed joblib-0.16.0 mglearn-0.1.9\n"
     ]
    }
   ],
   "source": [
    "!pip install mglearn"
   ]
  },
  {
   "cell_type": "code",
   "execution_count": 2,
   "metadata": {},
   "outputs": [],
   "source": [
    "from sklearn.model_selection import  train_test_split\n",
    "from mglearn.datasets import load_extended_boston"
   ]
  },
  {
   "cell_type": "code",
   "execution_count": 3,
   "metadata": {},
   "outputs": [],
   "source": [
    "X,y = load_extended_boston()"
   ]
  },
  {
   "cell_type": "code",
   "execution_count": 6,
   "metadata": {},
   "outputs": [],
   "source": [
    "X_train,X_test,y_train,y_test = train_test_split(X,y,random_state=0)"
   ]
  },
  {
   "cell_type": "markdown",
   "metadata": {},
   "source": [
    "# 単回帰モデル"
   ]
  },
  {
   "cell_type": "code",
   "execution_count": 7,
   "metadata": {},
   "outputs": [
    {
     "data": {
      "image/png": "[encoded data removed]",
      "text/plain": [
       "<Figure size 432x288 with 1 Axes>"
      ]
     },
     "metadata": {},
     "output_type": "display_data"
    }
   ],
   "source": [
    "import matplotlib.pyplot as plt\n",
    "from sklearn import  linear_model\n",
    "plt.style.use('seaborn-darkgrid') #グラフスタイル\n",
    "\n",
    "# 住居の平均部屋数の列のみを使用\n",
    "X_train_single = X_train[:,5].reshape(-1,1)\n",
    "X_test_single = X_test[:,5].reshape(-1,1)\n",
    "\n",
    "# 単回帰モデルの適用\n",
    "lm_single = linear_model.LinearRegression()\n",
    "lm_single.fit(X_train_single, y_train)\n",
    "\n",
    "# 構築した単回帰モデルで訓練データを予測\n",
    "y_pred_train = lm_single.predict(X_train_single)\n",
    "\n",
    "# 可視化\n",
    "plt.xlabel('RM') # x軸のラベル\n",
    "plt.ylabel('MEDV')\n",
    "plt.scatter(X_train_single,y_train) #散布図\n",
    "plt.plot(X_train_single,y_pred_train,color='red',linewidth=2) # 回帰した直線\n",
    "plt.show()"
   ]
  },
  {
   "cell_type": "code",
   "execution_count": 16,
   "metadata": {},
   "outputs": [
    {
     "name": "stdout",
     "output_type": "stream",
     "text": [
      "intercept: -3.02\n",
      "coef:48.60\n"
     ]
    }
   ],
   "source": [
    "# バイアス，重みパラメータ表示\n",
    "print(f'intercept: {lm_single.intercept_:.2f}')\n",
    "print(f'coef:{lm_single.coef_[0]:.2f}')"
   ]
  },
  {
   "cell_type": "code",
   "execution_count": 17,
   "metadata": {},
   "outputs": [
    {
     "name": "stdout",
     "output_type": "stream",
     "text": [
      "Train score :0.49\n",
      "Test score : 0.47\n"
     ]
    }
   ],
   "source": [
    "# モデルの評価\n",
    "print(f'Train score :{lm_single.score(X_train_single,y_train):.2f}')\n",
    "print(f'Test score : {lm_single.score(X_test_single,y_test):.2f}')"
   ]
  },
  {
   "cell_type": "markdown",
   "metadata": {},
   "source": [
    "# 重回帰モデル"
   ]
  },
  {
   "cell_type": "code",
   "execution_count": 23,
   "metadata": {},
   "outputs": [
    {
     "name": "stdout",
     "output_type": "stream",
     "text": [
      "intercept:30.93\n",
      "coef:[-412.7109467   -52.24320682 -131.89881469  -12.00413648  -15.51071293]\n",
      "Train score:0.95\n",
      "Test score:0.61\n"
     ]
    }
   ],
   "source": [
    "lm = linear_model.LinearRegression()\n",
    "lm.fit(X_train,y_train)\n",
    "\n",
    "# バイアスパラメータと重みパラメータ先頭4個の表示\n",
    "print(f'intercept:{lm.intercept_:.2f}')\n",
    "print(f'coef:{lm.coef_[:5]}')\n",
    "\n",
    "#モデルの評価\n",
    "print(f'Train score:{lm.score(X_train,y_train):.2f}')\n",
    "print(f'Test score:{lm.score(X_test,y_test):.2f}')"
   ]
  },
  {
   "cell_type": "code",
   "execution_count": null,
   "metadata": {},
   "outputs": [],
   "source": []
  }
 ],
 "metadata": {
  "kernelspec": {
   "display_name": "Python 3",
   "language": "python",
   "name": "python3"
  },
  "language_info": {
   "codemirror_mode": {
    "name": "ipython",
    "version": 3
   },
   "file_extension": ".py",
   "mimetype": "text/x-python",
   "name": "python",
   "nbconvert_exporter": "python",
   "pygments_lexer": "ipython3",
   "version": "3.6.7"
  },
  "varInspector": {
   "cols": {
    "lenName": 16,
    "lenType": 16,
    "lenVar": 40
   },
   "kernels_config": {
    "python": {
     "delete_cmd_postfix": "",
     "delete_cmd_prefix": "del ",
     "library": "var_list.py",
     "varRefreshCmd": "print(var_dic_list())"
    },
    "r": {
     "delete_cmd_postfix": ") ",
     "delete_cmd_prefix": "rm(",
     "library": "var_list.r",
     "varRefreshCmd": "cat(var_dic_list()) "
    }
   },
   "types_to_exclude": [
    "module",
    "function",
    "builtin_function_or_method",
    "instance",
    "_Feature"
   ],
   "window_display": false
  }
 },
 "nbformat": 4,
 "nbformat_minor": 2
}
